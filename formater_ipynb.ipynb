{
 "cells": [
  {
   "cell_type": "code",
   "execution_count": 1,
   "id": "ff190a45",
   "metadata": {},
   "outputs": [
    {
     "name": "stderr",
     "output_type": "stream",
     "text": [
      "/Users/SathyaPriya.Turaga/anaconda3/lib/python3.11/site-packages/pandas/core/arrays/masked.py:60: UserWarning: Pandas requires version '1.3.6' or newer of 'bottleneck' (version '1.3.5' currently installed).\n",
      "  from pandas.core import (\n"
     ]
    }
   ],
   "source": [
    "import os\n",
    "import csv\n",
    "import json\n",
    "import time\n",
    "import pandas as pd\n",
    "from pathlib import Path"
   ]
  },
  {
   "cell_type": "code",
   "execution_count": 2,
   "id": "6e394e76",
   "metadata": {},
   "outputs": [],
   "source": [
    "def excel_to_csv(excel_file):\n",
    "    try:\n",
    "        df = pd.read_excel(excel_file)\n",
    "        df = df.map(str)\n",
    "        csv_file = excel_file.parent / f\"{excel_file.stem}.csv\"\n",
    "        \n",
    "        try:\n",
    "            df = df.drop(['Unnamed: 0'], axis=1)\n",
    "            df.to_csv(csv_file, index=False)      \n",
    "        except:\n",
    "            df.to_csv(csv_file, index=False)\n",
    "            \n",
    "        if csv_file.exists():\n",
    "            return csv_file, excel_file.suffix\n",
    "        else:\n",
    "            return\n",
    "            \n",
    "    except Exception as e:\n",
    "        return f\"An error occurred: {str(e)}\""
   ]
  },
  {
   "cell_type": "code",
   "execution_count": 3,
   "id": "fb4d3f40",
   "metadata": {},
   "outputs": [],
   "source": [
    "def csv_to_json(csv_file, url, conversion_ext,first_run_flag):\n",
    "\n",
    "    with open(csv_file, 'r') as f:\n",
    "        reader = csv.DictReader(f)\n",
    "        data = []\n",
    "        for row in reader:\n",
    "            json_row = {}\n",
    "            content = ', '.join([f\"{key} : {value}\" for key, value in row.items()])\n",
    "            try:\n",
    "                raw_title = csv_file.name\n",
    "            except:\n",
    "                raw_title = str(csv_file).split('\\\\')[-1]\n",
    "            doc_name = raw_title.split(\".\")[0] + conversion_ext\n",
    "            json_row['title'] = raw_title.split(\".\")[0]\n",
    "            json_row['content'] = content\n",
    "            json_row['url'] = url\n",
    "            json_row['doc_name'] = doc_name\n",
    "            \n",
    "            data.append(json_row)\n",
    "    \n",
    "    output_file_path = r\"./resources/output.json\"\n",
    "    \n",
    "    if first_run_flag:\n",
    "        existing_data = []  # Clear existing data if it's the first run\n",
    "    else:\n",
    "        if Path(output_file_path).is_file() and Path(output_file_path).stat().st_size > 0:\n",
    "            with open(output_file_path, 'r') as f:\n",
    "                existing_data = json.load(f)\n",
    "        else:\n",
    "            existing_data = []\n",
    "    \n",
    "    existing_data.extend(data) \n",
    "\n",
    "    with open(output_file_path, 'w') as f:\n",
    "        json.dump(existing_data, f, indent=4)"
   ]
  },
  {
   "cell_type": "code",
   "execution_count": 4,
   "id": "0944fff7",
   "metadata": {},
   "outputs": [
    {
     "name": "stdout",
     "output_type": "stream",
     "text": [
      "\n",
      "Please enter the URL for data-1718022718564.csv (press Enter to skip): \n"
     ]
    },
    {
     "ename": "Error",
     "evalue": "field larger than field limit (131072)",
     "output_type": "error",
     "traceback": [
      "\u001b[0;31m---------------------------------------------------------------------------\u001b[0m",
      "\u001b[0;31mError\u001b[0m                                     Traceback (most recent call last)",
      "Cell \u001b[0;32mIn[4], line 14\u001b[0m\n\u001b[1;32m     11\u001b[0m     df \u001b[38;5;241m=\u001b[39m pd\u001b[38;5;241m.\u001b[39mread_csv(csv_path)\n\u001b[1;32m     13\u001b[0m     df\u001b[38;5;241m.\u001b[39mto_csv(csv_path,index\u001b[38;5;241m=\u001b[39m\u001b[38;5;28;01mFalse\u001b[39;00m)\n\u001b[0;32m---> 14\u001b[0m     csv_to_json(csv_path, url, \u001b[38;5;124m\"\u001b[39m\u001b[38;5;124m.csv\u001b[39m\u001b[38;5;124m\"\u001b[39m,first_run_flag)\n\u001b[1;32m     17\u001b[0m \u001b[38;5;28;01melif\u001b[39;00m csv_path\u001b[38;5;241m.\u001b[39msuffix \u001b[38;5;241m==\u001b[39m \u001b[38;5;124m'\u001b[39m\u001b[38;5;124m.xls\u001b[39m\u001b[38;5;124m'\u001b[39m \u001b[38;5;129;01mor\u001b[39;00m csv_path\u001b[38;5;241m.\u001b[39msuffix \u001b[38;5;241m==\u001b[39m \u001b[38;5;124m'\u001b[39m\u001b[38;5;124m.xlsx\u001b[39m\u001b[38;5;124m'\u001b[39m:\n\u001b[1;32m     18\u001b[0m     csv_path, conversion_flag \u001b[38;5;241m=\u001b[39m excel_to_csv(csv_path)\n",
      "Cell \u001b[0;32mIn[3], line 6\u001b[0m, in \u001b[0;36mcsv_to_json\u001b[0;34m(csv_file, url, conversion_ext, first_run_flag)\u001b[0m\n\u001b[1;32m      4\u001b[0m reader \u001b[38;5;241m=\u001b[39m csv\u001b[38;5;241m.\u001b[39mDictReader(f)\n\u001b[1;32m      5\u001b[0m data \u001b[38;5;241m=\u001b[39m []\n\u001b[0;32m----> 6\u001b[0m \u001b[38;5;28;01mfor\u001b[39;00m row \u001b[38;5;129;01min\u001b[39;00m reader:\n\u001b[1;32m      7\u001b[0m     json_row \u001b[38;5;241m=\u001b[39m {}\n\u001b[1;32m      8\u001b[0m     content \u001b[38;5;241m=\u001b[39m \u001b[38;5;124m'\u001b[39m\u001b[38;5;124m, \u001b[39m\u001b[38;5;124m'\u001b[39m\u001b[38;5;241m.\u001b[39mjoin([\u001b[38;5;124mf\u001b[39m\u001b[38;5;124m\"\u001b[39m\u001b[38;5;132;01m{\u001b[39;00mkey\u001b[38;5;132;01m}\u001b[39;00m\u001b[38;5;124m : \u001b[39m\u001b[38;5;132;01m{\u001b[39;00mvalue\u001b[38;5;132;01m}\u001b[39;00m\u001b[38;5;124m\"\u001b[39m \u001b[38;5;28;01mfor\u001b[39;00m key, value \u001b[38;5;129;01min\u001b[39;00m row\u001b[38;5;241m.\u001b[39mitems()])\n",
      "File \u001b[0;32m~/anaconda3/lib/python3.11/csv.py:111\u001b[0m, in \u001b[0;36mDictReader.__next__\u001b[0;34m(self)\u001b[0m\n\u001b[1;32m    108\u001b[0m \u001b[38;5;28;01mif\u001b[39;00m \u001b[38;5;28mself\u001b[39m\u001b[38;5;241m.\u001b[39mline_num \u001b[38;5;241m==\u001b[39m \u001b[38;5;241m0\u001b[39m:\n\u001b[1;32m    109\u001b[0m     \u001b[38;5;66;03m# Used only for its side effect.\u001b[39;00m\n\u001b[1;32m    110\u001b[0m     \u001b[38;5;28mself\u001b[39m\u001b[38;5;241m.\u001b[39mfieldnames\n\u001b[0;32m--> 111\u001b[0m row \u001b[38;5;241m=\u001b[39m \u001b[38;5;28mnext\u001b[39m(\u001b[38;5;28mself\u001b[39m\u001b[38;5;241m.\u001b[39mreader)\n\u001b[1;32m    112\u001b[0m \u001b[38;5;28mself\u001b[39m\u001b[38;5;241m.\u001b[39mline_num \u001b[38;5;241m=\u001b[39m \u001b[38;5;28mself\u001b[39m\u001b[38;5;241m.\u001b[39mreader\u001b[38;5;241m.\u001b[39mline_num\n\u001b[1;32m    114\u001b[0m \u001b[38;5;66;03m# unlike the basic reader, we prefer not to return blanks,\u001b[39;00m\n\u001b[1;32m    115\u001b[0m \u001b[38;5;66;03m# because we will typically wind up with a dict full of None\u001b[39;00m\n\u001b[1;32m    116\u001b[0m \u001b[38;5;66;03m# values\u001b[39;00m\n",
      "\u001b[0;31mError\u001b[0m: field larger than field limit (131072)"
     ]
    }
   ],
   "source": [
    "st_time = time.time()\n",
    "\n",
    "first_run_flag = True # Make this as False if you want to keep contents in output.json\n",
    "\n",
    "csv_folder = Path(r\"./resources\")\n",
    "\n",
    "for csv_path in csv_folder.glob(\"*\"):\n",
    "    if csv_path.suffix.lower() in ['.csv', '.xls', '.xlsx']:\n",
    "        url = input(f\"\\nPlease enter the URL for {csv_path.name} (press Enter to skip): \").strip()\n",
    "        if csv_path.suffix == '.csv':\n",
    "            df = pd.read_csv(csv_path)\n",
    "            \n",
    "            df.to_csv(csv_path,index=False)\n",
    "            csv_to_json(csv_path, url, \".csv\",first_run_flag)\n",
    "\n",
    "\n",
    "        elif csv_path.suffix == '.xls' or csv_path.suffix == '.xlsx':\n",
    "            csv_path, conversion_flag = excel_to_csv(csv_path)\n",
    "            if csv_path and conversion_flag:\n",
    "                csv_to_json(csv_path, url, conversion_flag,first_run_flag)\n",
    "                os.remove(csv_path)\n",
    "\n",
    "        first_run_flag = False\n",
    "\n",
    "\n",
    "        print(f\"\\nConversion of {csv_path.name} is succesfull\")\n",
    "ed_time = time.time()\n",
    "tot_time = ed_time - st_time\n",
    "print(\"\\n\\nSuccesfully converted csv data to json in {:.2f} seconds!\\n--------------------------------------------\\nCheck : resources\\\\output.json for results !\\n\\n\".format(tot_time))"
   ]
  },
  {
   "cell_type": "code",
   "execution_count": null,
   "id": "decdf6ab",
   "metadata": {},
   "outputs": [],
   "source": [
    "print(\"resources\\\\SPND.json\")"
   ]
  },
  {
   "cell_type": "code",
   "execution_count": null,
   "id": "35c54493",
   "metadata": {},
   "outputs": [],
   "source": []
  },
  {
   "cell_type": "code",
   "execution_count": null,
   "id": "7515f475",
   "metadata": {},
   "outputs": [],
   "source": [
    "\n"
   ]
  }
 ],
 "metadata": {
  "kernelspec": {
   "display_name": "Python 3 (ipykernel)",
   "language": "python",
   "name": "python3"
  },
  "language_info": {
   "codemirror_mode": {
    "name": "ipython",
    "version": 3
   },
   "file_extension": ".py",
   "mimetype": "text/x-python",
   "name": "python",
   "nbconvert_exporter": "python",
   "pygments_lexer": "ipython3",
   "version": "3.11.5"
  }
 },
 "nbformat": 4,
 "nbformat_minor": 5
}
